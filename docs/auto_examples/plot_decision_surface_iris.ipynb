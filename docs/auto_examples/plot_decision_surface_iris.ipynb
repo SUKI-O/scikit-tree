{
  "cells": [
    {
      "cell_type": "code",
      "execution_count": null,
      "metadata": {
        "collapsed": false
      },
      "outputs": [],
      "source": [
        "%matplotlib inline"
      ]
    },
    {
      "cell_type": "markdown",
      "metadata": {},
      "source": [
        "\n# Plot the decision surfaces of ensembles of trees on the iris dataset\n\nPlot the decision surfaces of forests of randomized trees trained on pairs of\nfeatures of the iris dataset.\n\nThis plot compares the decision surfaces learned by a decision tree classifier\n(first column), by a oblique decision tree classifier (second column), and by an\nextra oblique decision tree classifier (third column).\n\nIn the first row, the classifiers are built using the sepal width and\nthe sepal length features only, on the second row using the petal length and\nsepal length only, and on the third row using the petal width and the\npetal length only.\n"
      ]
    },
    {
      "cell_type": "code",
      "execution_count": null,
      "metadata": {
        "collapsed": false
      },
      "outputs": [],
      "source": [
        "import math\nfrom datetime import datetime\n\nimport matplotlib.pyplot as plt\nimport numpy as np\nfrom matplotlib.colors import ListedColormap\nfrom sklearn.datasets import load_iris\nfrom sklearn.tree import DecisionTreeClassifier\n\nfrom sktree.tree import ExtraObliqueDecisionTreeClassifier, ObliqueDecisionTreeClassifier\n\n# Parameters\nn_classes = 3\nn_estimators = 30\nmax_depth = 10\nrandom_state = 12345\n\nmodels = [\n    DecisionTreeClassifier(max_depth=max_depth),\n    ObliqueDecisionTreeClassifier(max_depth=max_depth),\n    ExtraObliqueDecisionTreeClassifier(max_depth=max_depth),\n]\n\ncmap = plt.cm.Spectral\nplot_step = 0.02  # fine step width for decision surface contours\nplot_step_coarser = 0.25  # step widths for coarse classifier guesses\n# figure size for plotting\nfigure_size = (30, 30)\npairs = [[0, 1], [0, 2], [2, 3]]\nN = len(pairs) * len(models)\nplot_idx = 1\n\nn_rows = 3\nfig, ax = plt.subplots(n_rows, math.ceil(N / n_rows))\nfig.set_size_inches(6 * N, 6)\n\n# Load data\niris = load_iris()\n\nfor pair in pairs:\n    for model in models:\n        # We only take the two corresponding features\n        X = iris.data[:, pair]\n        y = iris.target\n        # starting time\n        t0 = datetime.now()\n\n        # Shuffle\n        idx = np.arange(X.shape[0])\n        np.random.seed(random_state)\n        np.random.shuffle(idx)\n        X = X[idx]\n        y = y[idx]\n\n        # Standardize\n        mean = X.mean(axis=0)\n        std = X.std(axis=0)\n        X = (X - mean) / std\n\n        # Train\n        model.fit(X, y)\n\n        scores = model.score(X, y)\n        # Create a title for each column and the console by using str() and\n        # slicing away useless parts of the string\n        model_title = str(type(model)).split(\".\")[-1][:-2][: -len(\"Classifier\")]\n\n        model_details = model_title\n        if hasattr(model, \"estimators_\"):\n            model_details += \" with {} estimators\".format(len(model.estimators_))\n        print(\n            model_details + \" with features\",\n            pair,\n            \"has a score of\",\n            round(scores, 5),\n            \"took\",\n            (datetime.now() - t0).total_seconds(),\n            \"seconds\",\n        )\n\n        plt.subplot(3, 3, plot_idx)\n        if plot_idx <= len(models):\n            # Add a title at the top of each column\n            plt.title(model_title, fontsize=9)\n\n        # Now plot the decision boundary using a fine mesh as input to\n        # filled contour plot\n        x_min, x_max = X[:, 0].min() - 1, X[:, 0].max() + 1\n        y_min, y_max = X[:, 1].min() - 1, X[:, 1].max() + 1\n        xx, yy = np.meshgrid(np.arange(x_min, x_max, plot_step), np.arange(y_min, y_max, plot_step))\n\n        # Plot either a single DecisionTreeClassifier or alpha blend the\n        # decision surfaces of the ensemble of classifiers\n        if (\n            isinstance(model, DecisionTreeClassifier)\n            or isinstance(model, ObliqueDecisionTreeClassifier)\n            or isinstance(model, ExtraObliqueDecisionTreeClassifier)\n        ):\n            Z = model.predict(np.c_[xx.ravel(), yy.ravel()])\n            Z = Z.reshape(xx.shape)\n            cs = plt.contourf(xx, yy, Z, cmap=cmap)\n\n        else:\n            # Choose alpha blend level with respect to the number\n            # of estimators\n            # that are in use (noting that AdaBoost can use fewer estimators\n            # than its maximum if it achieves a good enough fit early on)\n            estimator_alpha = 1.0 / len(model.estimators_)\n            for tree in model.estimators_:\n                Z = tree.predict(np.c_[xx.ravel(), yy.ravel()])\n                Z = Z.reshape(xx.shape)\n                cs = plt.contourf(xx, yy, Z, alpha=estimator_alpha, cmap=cmap)\n\n        # Build a coarser grid to plot a set of ensemble classifications\n        # to show how these are different to what we see in the decision\n        # surfaces. These points are regularly space and do not have a\n        # black outline\n        xx_coarser, yy_coarser = np.meshgrid(\n            np.arange(x_min, x_max, plot_step_coarser),\n            np.arange(y_min, y_max, plot_step_coarser),\n        )\n        Z_points_coarser = model.predict(np.c_[xx_coarser.ravel(), yy_coarser.ravel()]).reshape(\n            xx_coarser.shape\n        )\n        cs_points = plt.scatter(\n            xx_coarser,\n            yy_coarser,\n            s=15,\n            c=Z_points_coarser,\n            cmap=cmap,\n            edgecolors=\"none\",\n        )\n\n        # Plot the training points, these are clustered together and have a\n        # black outline\n        plt.scatter(\n            X[:, 0],\n            X[:, 1],\n            c=y,\n            cmap=ListedColormap([\"r\", \"y\", \"b\"]),\n            edgecolor=\"k\",\n            s=20,\n        )\n        plot_idx += 1  # move on to the next plot in sequence\n\nplt.suptitle(\"Classifiers on feature subsets of the Iris dataset\", fontsize=12)\nplt.axis(\"tight\")\nplt.tight_layout(h_pad=0.2, w_pad=0.2, pad=2.5)\nplt.show()\n\n# Discussion\n# ----------\n# This section demonstrates the decision boundaries of the classification task with\n# ObliqueDecisionTree and ExtraObliqueDecisionTree in contrast to basic DecisionTree.\n# The performance of the three classifiers is very similar, but ObliqueDecisionTree and\n# ExtraObliqueDecisionTree have distinct decision boundaries."
      ]
    }
  ],
  "metadata": {
    "kernelspec": {
      "display_name": "Python 3",
      "language": "python",
      "name": "python3"
    },
    "language_info": {
      "codemirror_mode": {
        "name": "ipython",
        "version": 3
      },
      "file_extension": ".py",
      "mimetype": "text/x-python",
      "name": "python",
      "nbconvert_exporter": "python",
      "pygments_lexer": "ipython3",
      "version": "3.9.16"
    }
  },
  "nbformat": 4,
  "nbformat_minor": 0
}